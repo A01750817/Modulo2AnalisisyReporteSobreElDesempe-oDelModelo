{
 "cells": [
  {
   "cell_type": "code",
   "execution_count": 2,
   "id": "d41a9fd1",
   "metadata": {},
   "outputs": [],
   "source": [
    "from Neural import NeuralNet\n",
    "from Neural import stratified_split"
   ]
  },
  {
   "cell_type": "code",
   "execution_count": 3,
   "id": "424f965d",
   "metadata": {},
   "outputs": [],
   "source": [
    "from sklearn.datasets import load_digits"
   ]
  },
  {
   "cell_type": "code",
   "execution_count": 10,
   "id": "07776a1d",
   "metadata": {},
   "outputs": [
    {
     "name": "stdout",
     "output_type": "stream",
     "text": [
      "Shape de X: (1797, 64)\n",
      "Shape de y: (1797,)\n",
      "Clases: {np.int64(0), np.int64(1), np.int64(2), np.int64(3), np.int64(4), np.int64(5), np.int64(6), np.int64(7), np.int64(8), np.int64(9)}\n",
      "Número de muestras: 1797\n",
      "Número de features: 64\n",
      "Dimensión de cada imagen: (8, 8)\n"
     ]
    }
   ],
   "source": [
    "digits = load_digits()\n",
    "X, y = digits.data, digits.target\n",
    "\n",
    "print(\"Shape de X:\", X.shape)   # (1797, 64)\n",
    "print(\"Shape de y:\", y.shape)   # (1797,)\n",
    "print(\"Clases:\", set(y))        # {0,1,2,...,9}\n",
    "print(\"Número de muestras:\", len(y))\n",
    "print(\"Número de features:\", X.shape[1])\n",
    "print(\"Dimensión de cada imagen:\", digits.images[0].shape)"
   ]
  },
  {
   "cell_type": "code",
   "execution_count": 13,
   "id": "bcb93e9f",
   "metadata": {},
   "outputs": [
    {
     "data": {
      "image/png": "[encoded data removed]",
      "text/plain": [
       "<Figure size 1000x300 with 10 Axes>"
      ]
     },
     "metadata": {},
     "output_type": "display_data"
    }
   ],
   "source": [
    "import matplotlib.pyplot as plt\n",
    "\n",
    "fig, axes = plt.subplots(1, 10, figsize=(10,3))\n",
    "for i, ax in enumerate(axes):\n",
    "    ax.imshow(digits.images[i], cmap='gray')\n",
    "    ax.set_title(f\"Label: {digits.target[i]}\")\n",
    "    ax.axis('off')\n",
    "plt.show()\n"
   ]
  },
  {
   "cell_type": "code",
   "execution_count": null,
   "id": "34069ec7",
   "metadata": {},
   "outputs": [],
   "source": [
    "#para probar nomas\n",
    "modelo1 = NeuralNet(learning_rate=0.001, \n",
    "                  activation_function='ReLu', \n",
    "                  layer_neurons=[6,4], \n",
    "                  epoch=2000, \n",
    "                  batch_size=16)\n",
    "\n",
    "X = iris.data.features.to_numpy()\n",
    "y = iris.data.targets.to_numpy()\n",
    "if y.ndim > 1:   # aplastar etiquetas\n",
    "    y = y.ravel()\n",
    "\n",
    "\n",
    "# escalar para que tenga media 0 y desviacion estandar 1\n",
    "X = (X - X.mean(axis=0)) / X.std(axis=0)\n",
    "\n",
    "X_train, X_test, y_train, y_test = stratified_split(X, y, test_size=0.3, seed=7)\n",
    "\n",
    "modelo1.fit(X_train, y_train)\n",
    "\n",
    "y_pred = modelo1.predict(X_test)\n",
    "# mapear y_test a índices de train\n",
    "class_to_idx = {c:i for i,c in enumerate(modelo1.classes)}\n",
    "y_test_idx = np.array([class_to_idx[label] for label in y_test])\n",
    "\n",
    "test_acc = np.mean(y_pred == y_test_idx)\n",
    "print(f\"Accuracy test: {test_acc:.3f}\")\n",
    "#perdida test\n",
    "y_pred_test, _, _ = modelo1._forward(X_test)\n",
    "print(f\"Loss test: {modelo1._CategoricalCrossEntropy(y_test_idx, y_pred_test):.3f}\")"
   ]
  }
 ],
 "metadata": {
  "kernelspec": {
   "display_name": "retoHousing",
   "language": "python",
   "name": "python3"
  },
  "language_info": {
   "codemirror_mode": {
    "name": "ipython",
    "version": 3
   },
   "file_extension": ".py",
   "mimetype": "text/x-python",
   "name": "python",
   "nbconvert_exporter": "python",
   "pygments_lexer": "ipython3",
   "version": "3.12.11"
  }
 },
 "nbformat": 4,
 "nbformat_minor": 5
}
